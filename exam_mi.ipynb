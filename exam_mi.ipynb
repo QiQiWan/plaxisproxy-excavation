{
 "cells": [
  {
   "cell_type": "code",
   "execution_count": 1,
   "id": "9e1794d7",
   "metadata": {},
   "outputs": [],
   "source": [
    "import math\n",
    "\n",
    "def sum_sequence(n: int, m: int):\n",
    "    sum = n\n",
    "    before = n\n",
    "    sqrt = n\n",
    "    for i in range(m - 1):\n",
    "        sqrt = math.sqrt(before)\n",
    "        sum += sqrt\n",
    "        before = sqrt\n",
    "    return round(sum, 2)\n",
    "\n",
    "while True:\n",
    "    s = input()\n",
    "    try:\n",
    "        a, b = s.split(\" \")\n",
    "    except Exception:\n",
    "        break\n",
    "    print(sum_sequence(int(a), int(b)))"
   ]
  },
  {
   "cell_type": "code",
   "execution_count": null,
   "id": "a7d999f4",
   "metadata": {},
   "outputs": [],
   "source": [
    "\n",
    "while True:\n",
    "    s = input()\n",
    "    try:\n",
    "        m, n = s.split(\" \")\n",
    "        m, n = int(m), int(n)\n",
    "    except Exception:\n",
    "        break\n",
    "\n",
    "    exist = False\n",
    "    for i in range(m, n+1):\n",
    "        sum = 0\n",
    "        num1 = i % 10\n",
    "        num2 = (i - num1) / 10 % 10\n",
    "        num3 = i // 100\n",
    "        sum = num1 ** 3 + num2 ** 3 + num3 ** 3\n",
    "        if sum == i:\n",
    "            print(i, end=\" \")\n",
    "            exist = True\n",
    "\n",
    "    if not exist:\n",
    "        print(\"no\")"
   ]
  },
  {
   "cell_type": "code",
   "execution_count": null,
   "id": "6958461d",
   "metadata": {},
   "outputs": [
    {
     "data": {
      "text/plain": [
       "[[1, 5, 14], [4, 10, 23]]"
      ]
     },
     "execution_count": 15,
     "metadata": {},
     "output_type": "execute_result"
    }
   ],
   "source": [
    "a = [[1,4,9],[3,5,9]]\n",
    "f = a\n",
    "\n",
    "for i in range(0, len(a)):\n",
    "    for j in range(len(a[0])):\n",
    "        if i == 0 and j != 0:\n",
    "            f[i][j] = f[i][j - 1] + a[i][j]\n",
    "        if i != 0 and j == 0:\n",
    "            f[i][j] = f[i - 1][j] + a[i][j]\n",
    "        if i != 0 and j != 0:\n",
    "            f[i][j] = max(f[i - 1][j], f[i][j -1]) + a[i][j]\n",
    "\n",
    "f[i][j]"
   ]
  },
  {
   "cell_type": "code",
   "execution_count": 16,
   "id": "c92a7b44",
   "metadata": {},
   "outputs": [
    {
     "ename": "IndexError",
     "evalue": "list index out of range",
     "output_type": "error",
     "traceback": [
      "\u001b[1;31m---------------------------------------------------------------------------\u001b[0m",
      "\u001b[1;31mIndexError\u001b[0m                                Traceback (most recent call last)",
      "Cell \u001b[1;32mIn[16], line 2\u001b[0m\n\u001b[0;32m      1\u001b[0m demo_list \u001b[38;5;241m=\u001b[39m [\u001b[38;5;124m'\u001b[39m\u001b[38;5;124mhello\u001b[39m\u001b[38;5;124m'\u001b[39m]\n\u001b[1;32m----> 2\u001b[0m \u001b[38;5;28mprint\u001b[39m(\u001b[43mdemo_list\u001b[49m\u001b[43m[\u001b[49m\u001b[38;5;241;43m2\u001b[39;49m\u001b[43m]\u001b[49m)\n",
      "\u001b[1;31mIndexError\u001b[0m: list index out of range"
     ]
    }
   ],
   "source": [
    "demo_list = ['hello']\n",
    "print(demo_list[2])"
   ]
  }
 ],
 "metadata": {
  "kernelspec": {
   "display_name": "data",
   "language": "python",
   "name": "python3"
  },
  "language_info": {
   "codemirror_mode": {
    "name": "ipython",
    "version": 3
   },
   "file_extension": ".py",
   "mimetype": "text/x-python",
   "name": "python",
   "nbconvert_exporter": "python",
   "pygments_lexer": "ipython3",
   "version": "3.10.12"
  }
 },
 "nbformat": 4,
 "nbformat_minor": 5
}
